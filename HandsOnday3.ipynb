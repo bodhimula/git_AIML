{
 "cells": [
  {
   "cell_type": "markdown",
   "metadata": {},
   "source": [
    "Coba-coba Class"
   ]
  },
  {
   "cell_type": "code",
   "execution_count": 26,
   "metadata": {},
   "outputs": [],
   "source": [
    "class User:\n",
    "    def __init__(self, membership, umur, tahunJoin, sudahExpire):\n",
    "        self.jenisMembership = membership\n",
    "        self.umur = umur\n",
    "        self.join = tahunJoin\n",
    "        self.sudahExpire = sudahExpire\n",
    "\n",
    "    def sudahExpire(self):\n",
    "        if self.sudahExpire:\n",
    "            return True\n",
    "        else:\n",
    "            return False\n",
    "\n",
    "\n"
   ]
  },
  {
   "cell_type": "markdown",
   "metadata": {},
   "source": [
    "Membuat Objek dari Suatu Kelas"
   ]
  },
  {
   "cell_type": "code",
   "execution_count": 29,
   "metadata": {},
   "outputs": [
    {
     "name": "stdout",
     "output_type": "stream",
     "text": [
      "--- Informasi User Adi ---\n",
      "Tahun Join: 2020\n",
      "Status Expire: False\n",
      "Umur: 55\n",
      "--- Informasi User Yeyep ---\n",
      "Tahun Join: 2021\n",
      "Status Expire: False\n",
      "Umur: 50\n",
      "--- Informasi User Roni ---\n",
      "Tahun Join: 2010\n",
      "Status Expire: True\n",
      "Umur: 17\n"
     ]
    }
   ],
   "source": [
    "\n",
    "user_Adi = User(\"Gold\", 55, 2020, False)\n",
    "user_yeyep = User(\"Platinum\",50,2021,False)\n",
    "user_roni   = User(\"Standard\", 17,2010,True)\n",
    "\n",
    "# Melakukan print untuk melihat spesifikasi user_Adi\n",
    "print(\"--- Informasi User Adi ---\")\n",
    "print(\"Tahun Join:\", user_Adi.join)\n",
    "print(\"Status Expire:\", user_Adi.sudahExpire)\n",
    "print(\"Umur:\", user_Adi.umur)\n",
    "\n",
    "print(\"--- Informasi User Yeyep ---\")\n",
    "print(\"Tahun Join:\", user_yeyep.join)\n",
    "print(\"Status Expire:\", user_yeyep.sudahExpire)\n",
    "print(\"Umur:\", user_yeyep.umur)\n",
    "\n",
    "print(\"--- Informasi User Roni ---\")\n",
    "print(\"Tahun Join:\", user_roni.join)\n",
    "print(\"Status Expire:\", user_roni.sudahExpire)\n",
    "print(\"Umur:\", user_roni.umur)\n"
   ]
  }
 ],
 "metadata": {
  "kernelspec": {
   "display_name": "Python 3",
   "language": "python",
   "name": "python3"
  },
  "language_info": {
   "codemirror_mode": {
    "name": "ipython",
    "version": 3
   },
   "file_extension": ".py",
   "mimetype": "text/x-python",
   "name": "python",
   "nbconvert_exporter": "python",
   "pygments_lexer": "ipython3",
   "version": "3.10.11"
  }
 },
 "nbformat": 4,
 "nbformat_minor": 2
}
